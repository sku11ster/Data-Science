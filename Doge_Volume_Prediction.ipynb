{
  "nbformat": 4,
  "nbformat_minor": 0,
  "metadata": {
    "colab": {
      "provenance": []
    },
    "kernelspec": {
      "name": "python3",
      "display_name": "Python 3"
    },
    "language_info": {
      "name": "python"
    }
  },
  "cells": [
    {
      "cell_type": "markdown",
      "source": [
        "importing our data set of dogecoin."
      ],
      "metadata": {
        "id": "dCDTNRd48qIR"
      }
    },
    {
      "cell_type": "code",
      "execution_count": null,
      "metadata": {
        "id": "bCTkaE9v2yBJ"
      },
      "outputs": [],
      "source": [
        "import pandas as pd\n",
        "df = pd.read_csv(\"https://raw.githubusercontent.com/sku11ster/ids/main/DOGE-USD.csv\")\n",
        "#removing the date column as its of no use for our current volume of doge daily volume\n",
        "df =df.drop(\"Date\",axis = 1)"
      ]
    },
    {
      "cell_type": "markdown",
      "source": [
        "Features Types:\n",
        "\n",
        " 0   Date    quantative\n",
        " 1   Open    quantative\n",
        " 2   High     quantative\n",
        " 3   Low       quantative\n",
        " 4   Close     quantative\n",
        " 5   Adj Close  quantative"
      ],
      "metadata": {
        "id": "PIDa3yGM-S2y"
      }
    },
    {
      "cell_type": "code",
      "source": [
        "print(df)\n"
      ],
      "metadata": {
        "colab": {
          "base_uri": "https://localhost:8080/"
        },
        "id": "UREg9p6R87yk",
        "outputId": "275bdf2e-367a-4b39-9260-f5b7d4159763"
      },
      "execution_count": null,
      "outputs": [
        {
          "output_type": "stream",
          "name": "stdout",
          "text": [
            "          Open      High       Low     Close  Adj Close       Volume\n",
            "0     0.001207  0.001415  0.001181  0.001415   0.001415    6259550.0\n",
            "1     0.001421  0.001431  0.001125  0.001163   0.001163    4246520.0\n",
            "2     0.001146  0.001257  0.001141  0.001201   0.001201    2231080.0\n",
            "3     0.001189  0.001210  0.001002  0.001038   0.001038    3288960.0\n",
            "4     0.001046  0.001212  0.001019  0.001211   0.001211    2481270.0\n",
            "...        ...       ...       ...       ...        ...          ...\n",
            "1756  0.061534  0.063333  0.061058  0.061330   0.061330  309748693.0\n",
            "1757  0.061336  0.062479  0.060194  0.062372   0.062372  328765413.0\n",
            "1758  0.062372  0.062712  0.060947  0.061635   0.061635  273453013.0\n",
            "1759       NaN       NaN       NaN       NaN        NaN          NaN\n",
            "1760  0.062682  0.062744  0.062667  0.062696   0.062696  297513408.0\n",
            "\n",
            "[1761 rows x 6 columns]\n"
          ]
        }
      ]
    },
    {
      "cell_type": "code",
      "source": [
        "#replacing columns with nan values with avg of that column Part B\n",
        "list_cols = list(df.columns)\n",
        "list_cols.pop()\n",
        "print(list_cols)\n",
        "\n",
        "for x in list_cols:\n",
        "  df[x].fillna(value=df[x].mean(), inplace=True)\n",
        "#removes the duplicate data in the dataframe\n",
        "df = df.drop_duplicates(df.columns)\n",
        "\n",
        "#removes outliers in dataframe\n",
        "for col in df.columns:\n",
        "\n",
        "  mean = df[col].mean()\n",
        "  sd = df[col].std()\n",
        "\n",
        "  df = df[(df[col] <= mean+(3*sd))]\n",
        "#normalizing dataframe using the max-min techique\n",
        "for feature_name in list_cols:\n",
        "        max_value = df[feature_name].max()\n",
        "        min_value = df[feature_name].min()\n",
        "        df[feature_name] = (df[feature_name] - min_value) / (max_value - min_value)\n",
        "#check if data is skewed\n",
        "print(\"check for all features\")\n",
        "skew_ck = df.skew()\n",
        "for y in skew_ck:\n",
        "  if y>4:\n",
        "    print(\"Its SKEWED !!!\")\n",
        "  else:\n",
        "    print(\"Not Skewed !!!\")\n",
        "\n",
        "print(df)"
      ],
      "metadata": {
        "colab": {
          "base_uri": "https://localhost:8080/"
        },
        "id": "ldKur4m9Bu0n",
        "outputId": "a6e4c198-0334-449f-dc4d-082f914edba8"
      },
      "execution_count": null,
      "outputs": [
        {
          "output_type": "stream",
          "name": "stdout",
          "text": [
            "['Open', 'High', 'Low', 'Close', 'Adj Close']\n",
            "check for all features\n",
            "Not Skewed !!!\n",
            "Not Skewed !!!\n",
            "Not Skewed !!!\n",
            "Not Skewed !!!\n",
            "Not Skewed !!!\n",
            "Not Skewed !!!\n",
            "          Open      High       Low     Close  Adj Close       Volume\n",
            "0     0.000591  0.000743  0.000697  0.001445   0.001445    6259550.0\n",
            "1     0.001376  0.000801  0.000479  0.000479   0.000479    4246520.0\n",
            "2     0.000367  0.000170  0.000541  0.000625   0.000625    2231080.0\n",
            "3     0.000525  0.000000  0.000000  0.000000   0.000000    3288960.0\n",
            "4     0.000000  0.000007  0.000066  0.000663   0.000663    2481270.0\n",
            "...        ...       ...       ...       ...        ...          ...\n",
            "1755  0.230610  0.229162  0.231807  0.231875   0.231875  328934727.0\n",
            "1756  0.221933  0.225264  0.233785  0.231128   0.231128  309748693.0\n",
            "1757  0.221206  0.222167  0.230421  0.235122   0.235122  328765413.0\n",
            "1758  0.225007  0.223012  0.233353  0.232297   0.232297  273453013.0\n",
            "1760  0.226145  0.223128  0.240048  0.236364   0.236364  297513408.0\n",
            "\n",
            "[1624 rows x 6 columns]\n"
          ]
        }
      ]
    },
    {
      "cell_type": "code",
      "source": [
        "#Applying learning algo\n",
        "#its Linear Regression with multilinear features\n",
        "\n",
        "import numpy as np\n",
        "\n",
        "x = np.array(df[['Open', 'High', 'Low', 'Close', 'Adj Close']])\n",
        "y = np.array(df[['Volume']])\n",
        "\n",
        "from sklearn import linear_model\n",
        "\n",
        "regr = linear_model.LinearRegression()\n",
        "regr.fit(x, y)\n",
        "\n",
        "#testing simple sample\n",
        "\n",
        "predictedvolume = regr.predict([[0.048392,0.062691,0.056449,0.116071,0.116071]])\n",
        "print(\"Tested Sample:\")\n",
        "print(predictedvolume)"
      ],
      "metadata": {
        "colab": {
          "base_uri": "https://localhost:8080/"
        },
        "id": "k6dmbz19PJ08",
        "outputId": "48b10d4f-b5dd-4ae2-a746-f64ee42f4ed7"
      },
      "execution_count": null,
      "outputs": [
        {
          "output_type": "stream",
          "name": "stdout",
          "text": [
            "Tested Sample:\n",
            "[[76734202.38081129]]\n"
          ]
        }
      ]
    }
  ]
}